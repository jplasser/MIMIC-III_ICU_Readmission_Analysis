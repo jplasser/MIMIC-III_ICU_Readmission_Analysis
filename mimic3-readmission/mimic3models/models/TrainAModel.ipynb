{
 "cells": [
  {
   "cell_type": "code",
   "execution_count": null,
   "id": "little-opportunity",
   "metadata": {},
   "outputs": [],
   "source": [
    "import torch\n",
    "import torch.nn as nn\n",
    "import torch.nn.functional as F\n",
    "#import torch.optim as optim\n",
    "from torch.utils.data import Dataset, DataLoader\n",
    "from sklearn import metrics\n",
    "from tqdm.auto import tqdm\n",
    "import numpy as np\n",
    "import random\n",
    "\n",
    "import mimic3models.metrics as m\n",
    "import matplotlib.pyplot as plt\n",
    "import glob\n",
    "\n",
    "from DataLoader import LoadDataSets\n",
    "from lstm_cnn import LSTM_CNN4\n",
    "from lstm_cnn import trainer, evaluate, calcMetrics, plotLoss, plotAUC"
   ]
  },
  {
   "cell_type": "markdown",
   "id": "tropical-option",
   "metadata": {},
   "source": [
    "# Set random seeds"
   ]
  },
  {
   "cell_type": "code",
   "execution_count": null,
   "id": "ruled-stocks",
   "metadata": {},
   "outputs": [],
   "source": [
    "#CUDA RNN and LSTM\n",
    "#In some versions of CUDA, RNNs and LSTM networks may have non-deterministic behavior. See torch.nn.RNN() and torch.nn.LSTM() for details and workarounds.\n",
    "# https://pytorch.org/docs/stable/notes/randomness.html\n",
    "\n",
    "def randseed(seed=42):\n",
    "    torch.manual_seed(seed)\n",
    "    random.seed(seed)\n",
    "    np.random.seed(seed)\n",
    "\n",
    "randseed()"
   ]
  },
  {
   "cell_type": "markdown",
   "id": "opponent-administrator",
   "metadata": {},
   "source": [
    "# Load Training, Test and Validation Data Sets\n",
    "\n",
    "Set `mimic4` to `True` if you want to evaluate against MIMIC-IV, or to `False` for MIMIC-III."
   ]
  },
  {
   "cell_type": "code",
   "execution_count": null,
   "id": "vulnerable-newark",
   "metadata": {},
   "outputs": [],
   "source": [
    "# if you want to evaluate models with MIMIC-III then sey mimic=False\n",
    "# if you want to evaluate models with MIMIC-IV then sey mimic=True\n",
    "mimic4 = True"
   ]
  },
  {
   "cell_type": "code",
   "execution_count": null,
   "id": "joined-finder",
   "metadata": {},
   "outputs": [],
   "source": [
    "try:\n",
    "    del train_data\n",
    "except:\n",
    "    pass\n",
    "\n",
    "try:\n",
    "    del test_data\n",
    "except:\n",
    "    pass\n",
    "\n",
    "try:\n",
    "    del val_data\n",
    "except:\n",
    "    pass\n",
    "\n",
    "already_loaded = False\n",
    "\n",
    "dataloader_train, dataloader_val, dataloader_test = LoadDataSets(batch_size=64,mimic4=mimic4)"
   ]
  },
  {
   "cell_type": "code",
   "execution_count": null,
   "id": "enclosed-shareware",
   "metadata": {},
   "outputs": [],
   "source": [
    "device = torch.device(\"cuda:0\" if torch.cuda.is_available() else \"cpu\")\n",
    "device"
   ]
  },
  {
   "cell_type": "markdown",
   "id": "intensive-senate",
   "metadata": {},
   "source": [
    "# Train a specific LSTM+CNN model\n",
    "\n",
    "Before running the cell set the best model hyperparameters for MIMIC-III/IV:\n",
    "\n",
    "`hidden_dim, lstm_layers, lr, dropout, dropout_w, dropout_conv = (16, 2, 1e-3, 0.5, 0.3, 0.5)`"
   ]
  },
  {
   "cell_type": "code",
   "execution_count": null,
   "id": "located-engineer",
   "metadata": {},
   "outputs": [],
   "source": [
    "randseed()\n",
    "\n",
    "# define threshold\n",
    "threshold = 0.5\n",
    "logit_threshold = torch.tensor (threshold / (1 - threshold)).log()\n",
    "    \n",
    "best_accuracy = 0\n",
    "best_roc_auc = 0\n",
    "best_loss = 100000\n",
    "\n",
    "hidden_dim, lstm_layers, lr, dropout, dropout_w, dropout_conv = (8, 2, 1e-3, 0.3, 0.2, 0.2)\n",
    "print(hidden_dim, lstm_layers, lr, dropout, dropout_w, dropout_conv)"
   ]
  },
  {
   "cell_type": "code",
   "execution_count": null,
   "id": "filled-burning",
   "metadata": {
    "scrolled": false
   },
   "outputs": [],
   "source": [
    "number_epochs = 30\n",
    "\n",
    "(best_loss, best_accuracy, best_roc_auc), train_loss, val_loss,modelsignature = trainer(dataloader_train, dataloader_val,\n",
    "                                                                         number_epochs=number_epochs,\n",
    "                                                                         hidden_dim=hidden_dim,\n",
    "                                                                         lstm_layers=lstm_layers, lr=lr,\n",
    "                                                                         dropout=dropout,\n",
    "                                                                         dropout_w=dropout_w,\n",
    "                                                                         dropout_conv=dropout_conv,\n",
    "                                                                         best_loss=best_loss,\n",
    "                                                                         best_accuracy=best_accuracy,\n",
    "                                                                         best_roc_auc=best_roc_auc,\n",
    "                                                                         early_stopping=0,\n",
    "                                                                         verbatim=True)"
   ]
  },
  {
   "cell_type": "code",
   "execution_count": null,
   "id": "specialized-belfast",
   "metadata": {},
   "outputs": [],
   "source": [
    "print(\"Results on Test Data Set:\")\n",
    "print(f\"Best loss={best_loss}, best accuracy={best_accuracy}, and best AUC={best_roc_auc}\")\n",
    "\n",
    "filename_loss = glob.glob(f\"*{modelsignature}*loss-{best_loss}*.pth\")[0]\n",
    "filename_acc = glob.glob(f\"*{modelsignature}*acc-{best_accuracy}*.pth\")[0]\n",
    "filename_auc = glob.glob(f\"*{modelsignature}*auc-{best_roc_auc}.pth\")[0]\n",
    "\n",
    "print()\n",
    "print(\"Files with the best values when evaluated against the test data set:\")\n",
    "print(filename_loss)\n",
    "print(filename_acc)\n",
    "print(filename_auc)"
   ]
  },
  {
   "cell_type": "markdown",
   "id": "refined-numbers",
   "metadata": {},
   "source": [
    "# Evaluate best modell"
   ]
  },
  {
   "cell_type": "code",
   "execution_count": null,
   "id": "coral-omega",
   "metadata": {},
   "outputs": [],
   "source": [
    "model = LSTM_CNN4(hidden_dim=hidden_dim, lstm_layers=lstm_layers, dropout=0.5, dropout_w=0.5, dropout_conv=0.5)\n",
    "model.to(device)\n",
    "\n",
    "calcMetrics(model, dataloader_test, filename_loss, \"Test Loss\")\n",
    "calcMetrics(model, dataloader_test, filename_acc, \"Test Accuracy\")\n",
    "roc_auc, targets, outputs = calcMetrics(model, dataloader_test, filename_auc, \"Test AUC\")"
   ]
  },
  {
   "cell_type": "code",
   "execution_count": null,
   "id": "endless-bleeding",
   "metadata": {},
   "outputs": [],
   "source": [
    "plotLoss(train_loss, val_loss)"
   ]
  },
  {
   "cell_type": "code",
   "execution_count": null,
   "id": "dominant-opinion",
   "metadata": {},
   "outputs": [],
   "source": [
    "plotAUC(targets, outputs)"
   ]
  },
  {
   "cell_type": "code",
   "execution_count": null,
   "id": "split-liberia",
   "metadata": {},
   "outputs": [],
   "source": []
  }
 ],
 "metadata": {
  "kernelspec": {
   "display_name": "Python 3",
   "language": "python",
   "name": "python3"
  },
  "language_info": {
   "codemirror_mode": {
    "name": "ipython",
    "version": 3
   },
   "file_extension": ".py",
   "mimetype": "text/x-python",
   "name": "python",
   "nbconvert_exporter": "python",
   "pygments_lexer": "ipython3",
   "version": "3.6.12"
  }
 },
 "nbformat": 4,
 "nbformat_minor": 5
}
