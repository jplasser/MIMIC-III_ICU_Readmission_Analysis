{
 "cells": [
  {
   "cell_type": "code",
   "execution_count": null,
   "id": "public-equivalent",
   "metadata": {},
   "outputs": [],
   "source": [
    "import torch\n",
    "import torch.nn as nn\n",
    "from torch.utils.data import Dataset, DataLoader\n",
    "from sklearn import metrics\n",
    "from tqdm.auto import tqdm\n",
    "import numpy as np\n",
    "import random\n",
    "\n",
    "import mimic3models.metrics as m\n",
    "import matplotlib.pyplot as plt\n",
    "import glob\n",
    "\n",
    "from DataLoader import LoadDataSets\n",
    "from lstm_cnn import LSTM_CNN4\n",
    "from lstm_cnn import trainer, evaluate, calcMetrics, plotLoss, plotAUC"
   ]
  },
  {
   "cell_type": "markdown",
   "id": "tropical-option",
   "metadata": {},
   "source": [
    "# Set random seeds"
   ]
  },
  {
   "cell_type": "code",
   "execution_count": null,
   "id": "ruled-stocks",
   "metadata": {},
   "outputs": [],
   "source": [
    "#CUDA RNN and LSTM\n",
    "#In some versions of CUDA, RNNs and LSTM networks may have non-deterministic behavior. See torch.nn.RNN() and torch.nn.LSTM() for details and workarounds.\n",
    "# https://pytorch.org/docs/stable/notes/randomness.html\n",
    "\n",
    "def randseed(seed=42):\n",
    "    torch.manual_seed(seed)\n",
    "    random.seed(seed)\n",
    "    np.random.seed(seed)\n",
    "\n",
    "randseed()"
   ]
  },
  {
   "cell_type": "markdown",
   "id": "visible-romance",
   "metadata": {},
   "source": [
    "# Load Training, Test and Validation Data Sets\n",
    "\n",
    "Set `mimic4` to `True` if you want to evaluate against MIMIC-IV, or to `False` for MIMIC-III."
   ]
  },
  {
   "cell_type": "code",
   "execution_count": null,
   "id": "joined-finder",
   "metadata": {},
   "outputs": [],
   "source": [
    "try:\n",
    "    del train_data\n",
    "except:\n",
    "    pass\n",
    "\n",
    "try:\n",
    "    del test_data\n",
    "except:\n",
    "    pass\n",
    "\n",
    "try:\n",
    "    del val_data\n",
    "except:\n",
    "    pass\n",
    "\n",
    "already_loaded = False\n",
    "mimic4 = False\n",
    "dataloader_train, dataloader_val, dataloader_test = LoadDataSets(batch_size=64,mimic4=mimic4)"
   ]
  },
  {
   "cell_type": "code",
   "execution_count": null,
   "id": "enclosed-shareware",
   "metadata": {},
   "outputs": [],
   "source": [
    "device = torch.device(\"cuda:0\" if torch.cuda.is_available() else \"cpu\")\n",
    "device"
   ]
  },
  {
   "cell_type": "markdown",
   "id": "intensive-senate",
   "metadata": {},
   "source": [
    "# Train a specific LSTM+CNN model"
   ]
  },
  {
   "cell_type": "code",
   "execution_count": null,
   "id": "located-engineer",
   "metadata": {},
   "outputs": [],
   "source": [
    "randseed()"
   ]
  },
  {
   "cell_type": "markdown",
   "id": "waiting-ability",
   "metadata": {},
   "source": [
    "# Hyperparameter Grid Search"
   ]
  },
  {
   "cell_type": "code",
   "execution_count": null,
   "id": "realistic-recovery",
   "metadata": {
    "scrolled": true
   },
   "outputs": [],
   "source": [
    "# hyperparam simple grid search\n",
    "\n",
    "lr_ = [1e-3, 1e-4, 1e-5]\n",
    "hidden_dim_ = [8, 16, 128]\n",
    "lstm_layers_ = [2, 3]\n",
    "dropout_ = [0.2, 0.3, 0.5]\n",
    "dropout_w_ = [0.2, 0.3, 0.5]\n",
    "dropout_conv_ = [0.2, 0.3, 0.5]\n",
    "\n",
    "save_results = []\n",
    "\n",
    "for lr in lr_:\n",
    "    number_epochs = 2*int(np.exp(np.log(1/lr)/np.log(2))/(2/lr))\n",
    "    for hidden_dim in tqdm(hidden_dim_):\n",
    "        for lstm_layers in tqdm(lstm_layers_):\n",
    "            for dropout in tqdm(dropout_):\n",
    "                for dropout_w in tqdm(dropout_w_):\n",
    "                    for dropout_conv in tqdm(dropout_conv_):\n",
    "                        (best_loss, best_accuracy, best_roc_auc), train_loss, val_loss, modelsignature = trainer(\n",
    "                                 dataloader_train, dataloader_val, number_epochs=number_epochs,\n",
    "                                 hidden_dim=hidden_dim, lstm_layers=lstm_layers,lr=lr,\n",
    "                                 dropout=dropout, dropout_w=dropout_w, dropout_conv=dropout_conv,\n",
    "                                 best_loss=1.0, best_accuracy=0.0, best_roc_auc=0.5,\n",
    "                                 early_stopping=5,\n",
    "                                 verbatim=False)\n",
    "                        #modelsignature = f\"{number_epochs}_{hidden_dim}_{lstm_layers}_{lr}_{dropout}-{dropout_w}-{dropout_conv}\"\n",
    "                        save_results.append({modelsignature:[hidden_dim, lstm_layers, lr, dropout, dropout_w, dropout_conv, (best_loss, best_accuracy, best_roc_auc), train_loss, val_loss]})\n",
    "                        print(f\"*** number_epochs={number_epochs},hidden_dim={hidden_dim}, lstm_layers={lstm_layers},lr={lr},dropout={dropout}, dropout_w={dropout_w}, dropout_conv={dropout_conv}, best_loss={best_loss}, best_accuracy={best_accuracy}, best_roc_auc={best_roc_auc}\")\n",
    "\n"
   ]
  },
  {
   "cell_type": "code",
   "execution_count": null,
   "id": "official-companion",
   "metadata": {},
   "outputs": [],
   "source": []
  }
 ],
 "metadata": {
  "kernelspec": {
   "display_name": "Python 3",
   "language": "python",
   "name": "python3"
  },
  "language_info": {
   "codemirror_mode": {
    "name": "ipython",
    "version": 3
   },
   "file_extension": ".py",
   "mimetype": "text/x-python",
   "name": "python",
   "nbconvert_exporter": "python",
   "pygments_lexer": "ipython3",
   "version": "3.6.12"
  }
 },
 "nbformat": 4,
 "nbformat_minor": 5
}
