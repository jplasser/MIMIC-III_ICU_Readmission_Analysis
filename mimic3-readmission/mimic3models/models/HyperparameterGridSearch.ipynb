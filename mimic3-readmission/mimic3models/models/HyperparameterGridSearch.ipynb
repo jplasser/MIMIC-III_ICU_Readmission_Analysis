{
 "cells": [
  {
   "cell_type": "code",
   "execution_count": 1,
   "id": "public-equivalent",
   "metadata": {},
   "outputs": [],
   "source": [
    "import torch\n",
    "import torch.nn as nn\n",
    "from torch.utils.data import Dataset, DataLoader\n",
    "from sklearn import metrics\n",
    "from tqdm.auto import tqdm\n",
    "import numpy as np\n",
    "import random\n",
    "\n",
    "import mimic3models.metrics as m\n",
    "import matplotlib.pyplot as plt\n",
    "import glob\n",
    "\n",
    "from DataLoader import LoadDataSets\n",
    "from lstm_cnn import LSTM_CNN4\n",
    "from lstm_cnn import trainer, evaluate, calcMetrics, plotLoss, plotAUC"
   ]
  },
  {
   "cell_type": "markdown",
   "id": "tropical-option",
   "metadata": {},
   "source": [
    "# Set random seeds"
   ]
  },
  {
   "cell_type": "code",
   "execution_count": 2,
   "id": "ruled-stocks",
   "metadata": {},
   "outputs": [],
   "source": [
    "#CUDA RNN and LSTM\n",
    "#In some versions of CUDA, RNNs and LSTM networks may have non-deterministic behavior. See torch.nn.RNN() and torch.nn.LSTM() for details and workarounds.\n",
    "# https://pytorch.org/docs/stable/notes/randomness.html\n",
    "\n",
    "def randseed(seed=42):\n",
    "    torch.manual_seed(seed)\n",
    "    random.seed(seed)\n",
    "    np.random.seed(seed)\n",
    "\n",
    "randseed()"
   ]
  },
  {
   "cell_type": "markdown",
   "id": "visible-romance",
   "metadata": {},
   "source": [
    "# Load Training, Test and Validation Data Sets"
   ]
  },
  {
   "cell_type": "code",
   "execution_count": 3,
   "id": "joined-finder",
   "metadata": {},
   "outputs": [
    {
     "name": "stdout",
     "output_type": "stream",
     "text": [
      "Loading train, test and validation data... from ../readmission/train_data/\n",
      "Dimensions Train Data:  15392 48 390\n",
      "Dimensions:  4805 48 390\n",
      "Dimensions:  4839 48 390\n"
     ]
    }
   ],
   "source": [
    "try:\n",
    "    del train_data\n",
    "except:\n",
    "    pass\n",
    "\n",
    "try:\n",
    "    del test_data\n",
    "except:\n",
    "    pass\n",
    "\n",
    "try:\n",
    "    del val_data\n",
    "except:\n",
    "    pass\n",
    "\n",
    "already_loaded = False\n",
    "mimic4 = False\n",
    "dataloader_train, dataloader_val, dataloader_test = LoadDataSets(batch_size=64,mimic4=mimic4)"
   ]
  },
  {
   "cell_type": "code",
   "execution_count": 4,
   "id": "enclosed-shareware",
   "metadata": {},
   "outputs": [
    {
     "data": {
      "text/plain": [
       "device(type='cuda', index=0)"
      ]
     },
     "execution_count": 4,
     "metadata": {},
     "output_type": "execute_result"
    }
   ],
   "source": [
    "device = torch.device(\"cuda:0\" if torch.cuda.is_available() else \"cpu\")\n",
    "device"
   ]
  },
  {
   "cell_type": "markdown",
   "id": "intensive-senate",
   "metadata": {},
   "source": [
    "# Train a specific LSTM+CNN model"
   ]
  },
  {
   "cell_type": "code",
   "execution_count": 5,
   "id": "located-engineer",
   "metadata": {},
   "outputs": [],
   "source": [
    "randseed()"
   ]
  },
  {
   "cell_type": "markdown",
   "id": "waiting-ability",
   "metadata": {},
   "source": [
    "# Hyperparameter Grid Search"
   ]
  },
  {
   "cell_type": "code",
   "execution_count": 6,
   "id": "realistic-recovery",
   "metadata": {
    "scrolled": true
   },
   "outputs": [
    {
     "data": {
      "application/vnd.jupyter.widget-view+json": {
       "model_id": "85e7f186856046dd9ecfbe77f8065237",
       "version_major": 2,
       "version_minor": 0
      },
      "text/plain": [
       "  0%|          | 0/3 [00:00<?, ?it/s]"
      ]
     },
     "metadata": {},
     "output_type": "display_data"
    },
    {
     "data": {
      "application/vnd.jupyter.widget-view+json": {
       "model_id": "5a8ac37cf64e4a7fa056f667a335f94e",
       "version_major": 2,
       "version_minor": 0
      },
      "text/plain": [
       "  0%|          | 0/2 [00:00<?, ?it/s]"
      ]
     },
     "metadata": {},
     "output_type": "display_data"
    },
    {
     "data": {
      "application/vnd.jupyter.widget-view+json": {
       "model_id": "a50c14ea750a42cfbee761751fcf07f4",
       "version_major": 2,
       "version_minor": 0
      },
      "text/plain": [
       "  0%|          | 0/3 [00:00<?, ?it/s]"
      ]
     },
     "metadata": {},
     "output_type": "display_data"
    },
    {
     "data": {
      "application/vnd.jupyter.widget-view+json": {
       "model_id": "0ea3f35cb4ad43adabedf38082cdca19",
       "version_major": 2,
       "version_minor": 0
      },
      "text/plain": [
       "  0%|          | 0/3 [00:00<?, ?it/s]"
      ]
     },
     "metadata": {},
     "output_type": "display_data"
    },
    {
     "data": {
      "application/vnd.jupyter.widget-view+json": {
       "model_id": "d0afb0f9734b4c209a01755de03a6308",
       "version_major": 2,
       "version_minor": 0
      },
      "text/plain": [
       "  0%|          | 0/3 [00:00<?, ?it/s]"
      ]
     },
     "metadata": {},
     "output_type": "display_data"
    },
    {
     "name": "stderr",
     "output_type": "stream",
     "text": [
      "/system/apps/userenv/students/plasser/ICU_Readmission_Analysis_Pytorch_gpu/lib/python3.6/site-packages/torch/nn/modules/rnn.py:51: UserWarning: dropout option adds dropout after all but last recurrent layer, so non-zero dropout expects num_layers greater than 1, but got dropout=0.2 and num_layers=1\n",
      "  \"num_layers={}\".format(dropout, num_layers))\n"
     ]
    },
    {
     "ename": "KeyboardInterrupt",
     "evalue": "",
     "output_type": "error",
     "traceback": [
      "\u001b[0;31m---------------------------------------------------------------------------\u001b[0m",
      "\u001b[0;31mKeyboardInterrupt\u001b[0m                         Traceback (most recent call last)",
      "\u001b[0;32m<ipython-input-6-94116f2475b1>\u001b[0m in \u001b[0;36m<module>\u001b[0;34m\u001b[0m\n\u001b[1;32m     23\u001b[0m                                  \u001b[0mbest_loss\u001b[0m\u001b[0;34m=\u001b[0m\u001b[0;36m1.0\u001b[0m\u001b[0;34m,\u001b[0m \u001b[0mbest_accuracy\u001b[0m\u001b[0;34m=\u001b[0m\u001b[0;36m0.0\u001b[0m\u001b[0;34m,\u001b[0m \u001b[0mbest_roc_auc\u001b[0m\u001b[0;34m=\u001b[0m\u001b[0;36m0.5\u001b[0m\u001b[0;34m,\u001b[0m\u001b[0;34m\u001b[0m\u001b[0;34m\u001b[0m\u001b[0m\n\u001b[1;32m     24\u001b[0m                                  \u001b[0mearly_stopping\u001b[0m\u001b[0;34m=\u001b[0m\u001b[0;36m5\u001b[0m\u001b[0;34m,\u001b[0m\u001b[0;34m\u001b[0m\u001b[0;34m\u001b[0m\u001b[0m\n\u001b[0;32m---> 25\u001b[0;31m                                  verbatim=False)\n\u001b[0m\u001b[1;32m     26\u001b[0m                         \u001b[0;31m#modelsignature = f\"{number_epochs}_{hidden_dim}_{lstm_layers}_{lr}_{dropout}-{dropout_w}-{dropout_conv}\"\u001b[0m\u001b[0;34m\u001b[0m\u001b[0;34m\u001b[0m\u001b[0;34m\u001b[0m\u001b[0m\n\u001b[1;32m     27\u001b[0m                         \u001b[0msave_results\u001b[0m\u001b[0;34m.\u001b[0m\u001b[0mappend\u001b[0m\u001b[0;34m(\u001b[0m\u001b[0;34m{\u001b[0m\u001b[0mmodelsignature\u001b[0m\u001b[0;34m:\u001b[0m\u001b[0;34m[\u001b[0m\u001b[0mhidden_dim\u001b[0m\u001b[0;34m,\u001b[0m \u001b[0mlstm_layers\u001b[0m\u001b[0;34m,\u001b[0m \u001b[0mlr\u001b[0m\u001b[0;34m,\u001b[0m \u001b[0mdropout\u001b[0m\u001b[0;34m,\u001b[0m \u001b[0mdropout_w\u001b[0m\u001b[0;34m,\u001b[0m \u001b[0mdropout_conv\u001b[0m\u001b[0;34m,\u001b[0m \u001b[0;34m(\u001b[0m\u001b[0mbest_loss\u001b[0m\u001b[0;34m,\u001b[0m \u001b[0mbest_accuracy\u001b[0m\u001b[0;34m,\u001b[0m \u001b[0mbest_roc_auc\u001b[0m\u001b[0;34m)\u001b[0m\u001b[0;34m,\u001b[0m \u001b[0mtrain_loss\u001b[0m\u001b[0;34m,\u001b[0m \u001b[0mval_loss\u001b[0m\u001b[0;34m]\u001b[0m\u001b[0;34m}\u001b[0m\u001b[0;34m)\u001b[0m\u001b[0;34m\u001b[0m\u001b[0;34m\u001b[0m\u001b[0m\n",
      "\u001b[0;32m/system/user/publicwork/student/plasser/MIMIC-III_ICU_Readmission_Analysis/mimic3-readmission/mimic3models/models/lstm_cnn.py\u001b[0m in \u001b[0;36mtrainer\u001b[0;34m(dataloader_train, dataloader_val, modelclass, number_epochs, hidden_dim, lstm_layers, lr, dropout, dropout_w, dropout_conv, best_loss, best_accuracy, best_roc_auc, early_stopping, verbatim)\u001b[0m\n\u001b[1;32m   1024\u001b[0m \u001b[0;34m\u001b[0m\u001b[0m\n\u001b[1;32m   1025\u001b[0m         \u001b[0;31m# train for one epoch\u001b[0m\u001b[0;34m\u001b[0m\u001b[0;34m\u001b[0m\u001b[0;34m\u001b[0m\u001b[0m\n\u001b[0;32m-> 1026\u001b[0;31m         \u001b[0merror\u001b[0m\u001b[0;34m,\u001b[0m \u001b[0moutputs\u001b[0m\u001b[0;34m,\u001b[0m \u001b[0mtargets\u001b[0m \u001b[0;34m=\u001b[0m \u001b[0mtrain\u001b[0m\u001b[0;34m(\u001b[0m\u001b[0mdataloader_train\u001b[0m\u001b[0;34m,\u001b[0m \u001b[0mmodel\u001b[0m\u001b[0;34m,\u001b[0m \u001b[0moptimizer\u001b[0m\u001b[0;34m,\u001b[0m \u001b[0mloss\u001b[0m\u001b[0;34m,\u001b[0m \u001b[0mdevice\u001b[0m\u001b[0;34m)\u001b[0m\u001b[0;34m\u001b[0m\u001b[0;34m\u001b[0m\u001b[0m\n\u001b[0m\u001b[1;32m   1027\u001b[0m         \u001b[0mtrain_loss_values\u001b[0m\u001b[0;34m.\u001b[0m\u001b[0mappend\u001b[0m\u001b[0;34m(\u001b[0m\u001b[0merror\u001b[0m\u001b[0;34m)\u001b[0m\u001b[0;34m\u001b[0m\u001b[0;34m\u001b[0m\u001b[0m\n\u001b[1;32m   1028\u001b[0m \u001b[0;34m\u001b[0m\u001b[0m\n",
      "\u001b[0;32m/system/user/publicwork/student/plasser/MIMIC-III_ICU_Readmission_Analysis/mimic3-readmission/mimic3models/models/lstm_cnn.py\u001b[0m in \u001b[0;36mtrain\u001b[0;34m(dataloader, model, optimizer, criterion, device)\u001b[0m\n\u001b[1;32m    917\u001b[0m \u001b[0;34m\u001b[0m\u001b[0m\n\u001b[1;32m    918\u001b[0m         \u001b[0;31m# set inputs and targets\u001b[0m\u001b[0;34m\u001b[0m\u001b[0;34m\u001b[0m\u001b[0;34m\u001b[0m\u001b[0m\n\u001b[0;32m--> 919\u001b[0;31m         \u001b[0minputs\u001b[0m \u001b[0;34m=\u001b[0m \u001b[0minputs\u001b[0m\u001b[0;34m.\u001b[0m\u001b[0mto\u001b[0m\u001b[0;34m(\u001b[0m\u001b[0mdevice\u001b[0m\u001b[0;34m,\u001b[0m \u001b[0mdtype\u001b[0m\u001b[0;34m=\u001b[0m\u001b[0mtorch\u001b[0m\u001b[0;34m.\u001b[0m\u001b[0mfloat32\u001b[0m\u001b[0;34m)\u001b[0m\u001b[0;34m\u001b[0m\u001b[0;34m\u001b[0m\u001b[0m\n\u001b[0m\u001b[1;32m    920\u001b[0m         \u001b[0mtargets\u001b[0m \u001b[0;34m=\u001b[0m \u001b[0mtargets\u001b[0m\u001b[0;34m.\u001b[0m\u001b[0mto\u001b[0m\u001b[0;34m(\u001b[0m\u001b[0mdevice\u001b[0m\u001b[0;34m,\u001b[0m \u001b[0mdtype\u001b[0m\u001b[0;34m=\u001b[0m\u001b[0mtorch\u001b[0m\u001b[0;34m.\u001b[0m\u001b[0mfloat32\u001b[0m\u001b[0;34m)\u001b[0m\u001b[0;34m\u001b[0m\u001b[0;34m\u001b[0m\u001b[0m\n\u001b[1;32m    921\u001b[0m \u001b[0;34m\u001b[0m\u001b[0m\n",
      "\u001b[0;31mKeyboardInterrupt\u001b[0m: "
     ]
    }
   ],
   "source": [
    "# hyperparam simple grid search\n",
    "\n",
    "lr_ = [1e-3, 1e-4, 1e-5]\n",
    "hidden_dim_ = [8, 16, 128]\n",
    "lstm_layers_ = [2, 3]\n",
    "dropout_ = [0.2, 0.3, 0.5]\n",
    "dropout_w_ = [0.2, 0.3, 0.5]\n",
    "dropout_conv_ = [0.2, 0.3, 0.5]\n",
    "\n",
    "save_results = []\n",
    "\n",
    "for lr in lr_:\n",
    "    number_epochs = 2*int(np.exp(np.log(1/lr)/np.log(2))/(2/lr))\n",
    "    for hidden_dim in tqdm(hidden_dim_):\n",
    "        for lstm_layers in tqdm(lstm_layers_):\n",
    "            for dropout in tqdm(dropout_):\n",
    "                for dropout_w in tqdm(dropout_w_):\n",
    "                    for dropout_conv in tqdm(dropout_conv_):\n",
    "                        (best_loss, best_accuracy, best_roc_auc), train_loss, val_loss, modelsignature = trainer(\n",
    "                                 dataloader_train, dataloader_val, number_epochs=number_epochs,\n",
    "                                 hidden_dim=hidden_dim, lstm_layers=lstm_layers,lr=lr,\n",
    "                                 dropout=dropout, dropout_w=dropout_w, dropout_conv=dropout_conv,\n",
    "                                 best_loss=1.0, best_accuracy=0.0, best_roc_auc=0.5,\n",
    "                                 early_stopping=5,\n",
    "                                 verbatim=False)\n",
    "                        #modelsignature = f\"{number_epochs}_{hidden_dim}_{lstm_layers}_{lr}_{dropout}-{dropout_w}-{dropout_conv}\"\n",
    "                        save_results.append({modelsignature:[hidden_dim, lstm_layers, lr, dropout, dropout_w, dropout_conv, (best_loss, best_accuracy, best_roc_auc), train_loss, val_loss]})\n",
    "                        print(f\"*** number_epochs={number_epochs},hidden_dim={hidden_dim}, lstm_layers={lstm_layers},lr={lr},dropout={dropout}, dropout_w={dropout_w}, dropout_conv={dropout_conv}, best_loss={best_loss}, best_accuracy={best_accuracy}, best_roc_auc={best_roc_auc}\")\n",
    "\n"
   ]
  },
  {
   "cell_type": "code",
   "execution_count": null,
   "id": "official-companion",
   "metadata": {},
   "outputs": [],
   "source": []
  }
 ],
 "metadata": {
  "kernelspec": {
   "display_name": "Python 3",
   "language": "python",
   "name": "python3"
  },
  "language_info": {
   "codemirror_mode": {
    "name": "ipython",
    "version": 3
   },
   "file_extension": ".py",
   "mimetype": "text/x-python",
   "name": "python",
   "nbconvert_exporter": "python",
   "pygments_lexer": "ipython3",
   "version": "3.6.12"
  }
 },
 "nbformat": 4,
 "nbformat_minor": 5
}
